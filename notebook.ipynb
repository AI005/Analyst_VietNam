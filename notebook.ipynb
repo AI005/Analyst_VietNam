{
 "cells": [
  {
   "cell_type": "markdown",
   "metadata": {},
   "source": [
    "# ABOUT TEAM\n",
    "- STT nhóm:\n",
    "- Các thành viên:\n",
    "    + 18120507 Trương Công Phu\n",
    "    + 18120514 Phan Thiên Phúc\n",
    "    + 18120517 Nguyễn Công Bình Phương\n",
    "    + 18120532 Nguyễn Hoàng Sang\n",
    "    + 18120626 Đặng Quang Trường"
   ]
  },
  {
   "cell_type": "markdown",
   "metadata": {},
   "source": [
    "# PHÂN TÍCH DỮ LIỆU VIỆT NAM"
   ]
  },
  {
   "cell_type": "code",
   "execution_count": 66,
   "metadata": {},
   "outputs": [],
   "source": [
    "# import library\n",
    "import pandas as pd\n",
    "import numpy as np\n",
    "import matplotlib.pyplot as plt\n",
    "import statsmodels\n",
    "import seaborn as sns\n",
    "pd.set_option('display.max_columns',None)\n",
    "\n",
    "import warnings\n",
    "warnings.filterwarnings(\"ignore\")"
   ]
  },
  {
   "cell_type": "markdown",
   "metadata": {},
   "source": [
    "# ABOUT DATA"
   ]
  },
  {
   "cell_type": "markdown",
   "metadata": {},
   "source": [
    "Đây là dữ liệu về chất lượng không khí ở Việt Nam vào năm 2021 theo các trạm chính\n",
    "\n",
    "Mô tả về các cột:\n",
    "- Location: Vị trí của trạm dự báo\n",
    "- Station name: tên trạm dự báo\n",
    "- Url: link nguồn số liệu\n",
    "- Dominent pollutant: Chất ô nhiễm nổi bật\n",
    "- CO: Chỉ số khí CO\n",
    "- Dew: Chỉ số sương\n",
    "- Humidity: Chỉ số độ ẩm\n",
    "- NO2: Chỉ số khí NO2\n",
    "- O3: Chỉ số khí O3\n",
    "- Pressure: Áp suất không khí\n",
    "- PM10: chỉ số bụi mịn PM10\n",
    "- PM2.5: Chỉ số bụi mịn PM2.5\n",
    "- SO2: Chỉ số khí SO2\n",
    "- Temperature: Nhiệt độ\n",
    "- Wind: tốc độ gió\n",
    "- Data Time S: thời gian của các số liệu theo tưng entry\n",
    "- Data Time Tz: múi giờ\n",
    "- Status: Trạng thái của mức độ ưu nhiễm\n",
    "- Alert level: Mức độ cảnh báo ô nhiễm"
   ]
  },
  {
   "cell_type": "markdown",
   "metadata": {},
   "source": [
    "## PREPROCESSING"
   ]
  },
  {
   "cell_type": "markdown",
   "metadata": {},
   "source": [
    "- Đầu tiên ta xem qua dữ liệu như thế nào"
   ]
  },
  {
   "cell_type": "code",
   "execution_count": 2,
   "metadata": {
    "colab": {
     "base_uri": "https://localhost:8080/",
     "height": 388
    },
    "id": "piKZhTdsuyvS",
    "outputId": "656706d8-89b2-4245-fc02-16a8fe5a94c4"
   },
   "outputs": [],
   "source": [
    "data = pd.read_csv('historical_air_quality_2021_en.csv',index_col=0)"
   ]
  },
  {
   "cell_type": "code",
   "execution_count": 3,
   "metadata": {
    "id": "QFTNfa7xuyvS",
    "scrolled": true
   },
   "outputs": [
    {
     "data": {
      "text/html": [
       "<div>\n",
       "<style scoped>\n",
       "    .dataframe tbody tr th:only-of-type {\n",
       "        vertical-align: middle;\n",
       "    }\n",
       "\n",
       "    .dataframe tbody tr th {\n",
       "        vertical-align: top;\n",
       "    }\n",
       "\n",
       "    .dataframe thead th {\n",
       "        text-align: right;\n",
       "    }\n",
       "</style>\n",
       "<table border=\"1\" class=\"dataframe\">\n",
       "  <thead>\n",
       "    <tr style=\"text-align: right;\">\n",
       "      <th></th>\n",
       "      <th>Station ID</th>\n",
       "      <th>AQI index</th>\n",
       "      <th>Location</th>\n",
       "      <th>Station name</th>\n",
       "      <th>Url</th>\n",
       "      <th>Dominent pollutant</th>\n",
       "      <th>CO</th>\n",
       "      <th>Dew</th>\n",
       "      <th>Humidity</th>\n",
       "      <th>NO2</th>\n",
       "      <th>O3</th>\n",
       "      <th>Pressure</th>\n",
       "      <th>PM10</th>\n",
       "      <th>PM2.5</th>\n",
       "      <th>SO2</th>\n",
       "      <th>Temperature</th>\n",
       "      <th>Wind</th>\n",
       "      <th>Data Time S</th>\n",
       "      <th>Data Time Tz</th>\n",
       "      <th>Status</th>\n",
       "      <th>Alert level</th>\n",
       "    </tr>\n",
       "    <tr>\n",
       "      <th>_id</th>\n",
       "      <th></th>\n",
       "      <th></th>\n",
       "      <th></th>\n",
       "      <th></th>\n",
       "      <th></th>\n",
       "      <th></th>\n",
       "      <th></th>\n",
       "      <th></th>\n",
       "      <th></th>\n",
       "      <th></th>\n",
       "      <th></th>\n",
       "      <th></th>\n",
       "      <th></th>\n",
       "      <th></th>\n",
       "      <th></th>\n",
       "      <th></th>\n",
       "      <th></th>\n",
       "      <th></th>\n",
       "      <th></th>\n",
       "      <th></th>\n",
       "      <th></th>\n",
       "    </tr>\n",
       "  </thead>\n",
       "  <tbody>\n",
       "    <tr>\n",
       "      <th>1</th>\n",
       "      <td>8767</td>\n",
       "      <td>102.00</td>\n",
       "      <td>10.782978,106.700711</td>\n",
       "      <td>Ho Chi Minh City US Consulate, Vietnam (Lãnh s...</td>\n",
       "      <td>https://aqicn.org/city/vietnam/ho-chi-minh-cit...</td>\n",
       "      <td>pm25</td>\n",
       "      <td>-</td>\n",
       "      <td>NaN</td>\n",
       "      <td>83.0</td>\n",
       "      <td>-</td>\n",
       "      <td>-</td>\n",
       "      <td>1009.0</td>\n",
       "      <td>NaN</td>\n",
       "      <td>102.00</td>\n",
       "      <td>-</td>\n",
       "      <td>27.0</td>\n",
       "      <td>3.6</td>\n",
       "      <td>2021-01-21T19:00:00</td>\n",
       "      <td>+07:00</td>\n",
       "      <td>Unhealthy for sensitive groups</td>\n",
       "      <td>3</td>\n",
       "    </tr>\n",
       "    <tr>\n",
       "      <th>2</th>\n",
       "      <td>8688</td>\n",
       "      <td>221.00</td>\n",
       "      <td>21.0811211,105.8180306</td>\n",
       "      <td>United Nations International School of Hanoi, ...</td>\n",
       "      <td>https://aqicn.org/city/vietnam/hanoi/unis</td>\n",
       "      <td>aqi</td>\n",
       "      <td>-</td>\n",
       "      <td>NaN</td>\n",
       "      <td>77.0</td>\n",
       "      <td>-</td>\n",
       "      <td>-</td>\n",
       "      <td>1015.0</td>\n",
       "      <td>NaN</td>\n",
       "      <td>-</td>\n",
       "      <td>-</td>\n",
       "      <td>18.0</td>\n",
       "      <td>1.5</td>\n",
       "      <td>2021-01-21T20:00:00</td>\n",
       "      <td>+07:00</td>\n",
       "      <td>Very unhealthy</td>\n",
       "      <td>5</td>\n",
       "    </tr>\n",
       "    <tr>\n",
       "      <th>3</th>\n",
       "      <td>8641</td>\n",
       "      <td>281.00</td>\n",
       "      <td>21.0215063,105.8188748</td>\n",
       "      <td>Hanoi US Embassy, Vietnam (Đại sứ quán Mỹ, Hà ...</td>\n",
       "      <td>https://aqicn.org/city/vietnam/hanoi/us-embassy</td>\n",
       "      <td>pm25</td>\n",
       "      <td>0.30</td>\n",
       "      <td>NaN</td>\n",
       "      <td>77.0</td>\n",
       "      <td>8.70</td>\n",
       "      <td>0.90</td>\n",
       "      <td>1015.0</td>\n",
       "      <td>NaN</td>\n",
       "      <td>281.00</td>\n",
       "      <td>2.10</td>\n",
       "      <td>18.0</td>\n",
       "      <td>1.5</td>\n",
       "      <td>2021-01-21T20:00:00</td>\n",
       "      <td>+07:00</td>\n",
       "      <td>Very unhealthy</td>\n",
       "      <td>5</td>\n",
       "    </tr>\n",
       "    <tr>\n",
       "      <th>4</th>\n",
       "      <td>13012</td>\n",
       "      <td>36.00</td>\n",
       "      <td>13.998599,107.996482</td>\n",
       "      <td>Gia Lai/phường Thống Nhất - Pleiku, Vietnam</td>\n",
       "      <td>https://aqicn.org/city/vietnam/gia-lai/phuong-...</td>\n",
       "      <td>pm25</td>\n",
       "      <td>3.00</td>\n",
       "      <td>NaN</td>\n",
       "      <td>60.2</td>\n",
       "      <td>6.00</td>\n",
       "      <td>9.00</td>\n",
       "      <td>923.7</td>\n",
       "      <td>29.00</td>\n",
       "      <td>36.00</td>\n",
       "      <td>1.00</td>\n",
       "      <td>24.3</td>\n",
       "      <td>1.0</td>\n",
       "      <td>2021-01-21T20:00:00</td>\n",
       "      <td>+07:00</td>\n",
       "      <td>Good</td>\n",
       "      <td>1</td>\n",
       "    </tr>\n",
       "    <tr>\n",
       "      <th>5</th>\n",
       "      <td>12488</td>\n",
       "      <td>68.00</td>\n",
       "      <td>16.46226,107.596351</td>\n",
       "      <td>Thừa Thiên Huế/83 Hùng Vương, Vietnam</td>\n",
       "      <td>https://aqicn.org/city/vietnam/thua-thien-hue/...</td>\n",
       "      <td>pm25</td>\n",
       "      <td>2.00</td>\n",
       "      <td>NaN</td>\n",
       "      <td>88.0</td>\n",
       "      <td>-</td>\n",
       "      <td>-</td>\n",
       "      <td>1015.0</td>\n",
       "      <td>52.00</td>\n",
       "      <td>68.00</td>\n",
       "      <td>-</td>\n",
       "      <td>21.0</td>\n",
       "      <td>1.0</td>\n",
       "      <td>2021-01-21T19:00:00</td>\n",
       "      <td>+07:00</td>\n",
       "      <td>Moderate</td>\n",
       "      <td>2</td>\n",
       "    </tr>\n",
       "  </tbody>\n",
       "</table>\n",
       "</div>"
      ],
      "text/plain": [
       "     Station ID AQI index                Location  \\\n",
       "_id                                                 \n",
       "1          8767    102.00    10.782978,106.700711   \n",
       "2          8688    221.00  21.0811211,105.8180306   \n",
       "3          8641    281.00  21.0215063,105.8188748   \n",
       "4         13012     36.00    13.998599,107.996482   \n",
       "5         12488     68.00     16.46226,107.596351   \n",
       "\n",
       "                                          Station name  \\\n",
       "_id                                                      \n",
       "1    Ho Chi Minh City US Consulate, Vietnam (Lãnh s...   \n",
       "2    United Nations International School of Hanoi, ...   \n",
       "3    Hanoi US Embassy, Vietnam (Đại sứ quán Mỹ, Hà ...   \n",
       "4          Gia Lai/phường Thống Nhất - Pleiku, Vietnam   \n",
       "5                Thừa Thiên Huế/83 Hùng Vương, Vietnam   \n",
       "\n",
       "                                                   Url Dominent pollutant  \\\n",
       "_id                                                                         \n",
       "1    https://aqicn.org/city/vietnam/ho-chi-minh-cit...               pm25   \n",
       "2            https://aqicn.org/city/vietnam/hanoi/unis                aqi   \n",
       "3      https://aqicn.org/city/vietnam/hanoi/us-embassy               pm25   \n",
       "4    https://aqicn.org/city/vietnam/gia-lai/phuong-...               pm25   \n",
       "5    https://aqicn.org/city/vietnam/thua-thien-hue/...               pm25   \n",
       "\n",
       "       CO  Dew  Humidity   NO2    O3  Pressure   PM10   PM2.5   SO2  \\\n",
       "_id                                                                   \n",
       "1       -  NaN      83.0     -     -    1009.0    NaN  102.00     -   \n",
       "2       -  NaN      77.0     -     -    1015.0    NaN       -     -   \n",
       "3    0.30  NaN      77.0  8.70  0.90    1015.0    NaN  281.00  2.10   \n",
       "4    3.00  NaN      60.2  6.00  9.00     923.7  29.00   36.00  1.00   \n",
       "5    2.00  NaN      88.0     -     -    1015.0  52.00   68.00     -   \n",
       "\n",
       "     Temperature  Wind          Data Time S Data Time Tz  \\\n",
       "_id                                                        \n",
       "1           27.0   3.6  2021-01-21T19:00:00       +07:00   \n",
       "2           18.0   1.5  2021-01-21T20:00:00       +07:00   \n",
       "3           18.0   1.5  2021-01-21T20:00:00       +07:00   \n",
       "4           24.3   1.0  2021-01-21T20:00:00       +07:00   \n",
       "5           21.0   1.0  2021-01-21T19:00:00       +07:00   \n",
       "\n",
       "                             Status  Alert level  \n",
       "_id                                               \n",
       "1    Unhealthy for sensitive groups            3  \n",
       "2                    Very unhealthy            5  \n",
       "3                    Very unhealthy            5  \n",
       "4                              Good            1  \n",
       "5                          Moderate            2  "
      ]
     },
     "execution_count": 3,
     "metadata": {},
     "output_type": "execute_result"
    }
   ],
   "source": [
    "data.head()"
   ]
  },
  {
   "cell_type": "code",
   "execution_count": 4,
   "metadata": {
    "id": "FfcL6U_qErOr"
   },
   "outputs": [
    {
     "data": {
      "text/plain": [
       "(805, 21)"
      ]
     },
     "execution_count": 4,
     "metadata": {},
     "output_type": "execute_result"
    }
   ],
   "source": [
    "data.shape"
   ]
  },
  {
   "cell_type": "code",
   "execution_count": 5,
   "metadata": {
    "id": "3mD_X1tUuyvT"
   },
   "outputs": [
    {
     "name": "stdout",
     "output_type": "stream",
     "text": [
      "<class 'pandas.core.frame.DataFrame'>\n",
      "Int64Index: 805 entries, 1 to 805\n",
      "Data columns (total 21 columns):\n",
      " #   Column              Non-Null Count  Dtype  \n",
      "---  ------              --------------  -----  \n",
      " 0   Station ID          805 non-null    int64  \n",
      " 1   AQI index           801 non-null    object \n",
      " 2   Location            805 non-null    object \n",
      " 3   Station name        805 non-null    object \n",
      " 4   Url                 805 non-null    object \n",
      " 5   Dominent pollutant  685 non-null    object \n",
      " 6   CO                  805 non-null    object \n",
      " 7   Dew                 460 non-null    float64\n",
      " 8   Humidity            805 non-null    float64\n",
      " 9   NO2                 805 non-null    object \n",
      " 10  O3                  805 non-null    object \n",
      " 11  Pressure            805 non-null    float64\n",
      " 12  PM10                773 non-null    object \n",
      " 13  PM2.5               804 non-null    object \n",
      " 14  SO2                 804 non-null    object \n",
      " 15  Temperature         805 non-null    float64\n",
      " 16  Wind                805 non-null    float64\n",
      " 17  Data Time S         805 non-null    object \n",
      " 18  Data Time Tz        805 non-null    object \n",
      " 19  Status              805 non-null    object \n",
      " 20  Alert level         805 non-null    int64  \n",
      "dtypes: float64(5), int64(2), object(14)\n",
      "memory usage: 138.4+ KB\n"
     ]
    }
   ],
   "source": [
    "data.info()"
   ]
  },
  {
   "cell_type": "markdown",
   "metadata": {},
   "source": [
    "Dữ liệu bao gồm 805 dòng và 21 cột. Điều kì lạ là có các cột chỉ số lại mang kiểu dữ liệu object, có lẽ có vấn đề gì đó"
   ]
  },
  {
   "cell_type": "code",
   "execution_count": 6,
   "metadata": {
    "id": "TS9Xr-w4uyvU"
   },
   "outputs": [
    {
     "data": {
      "text/html": [
       "<div>\n",
       "<style scoped>\n",
       "    .dataframe tbody tr th:only-of-type {\n",
       "        vertical-align: middle;\n",
       "    }\n",
       "\n",
       "    .dataframe tbody tr th {\n",
       "        vertical-align: top;\n",
       "    }\n",
       "\n",
       "    .dataframe thead th {\n",
       "        text-align: right;\n",
       "    }\n",
       "</style>\n",
       "<table border=\"1\" class=\"dataframe\">\n",
       "  <thead>\n",
       "    <tr style=\"text-align: right;\">\n",
       "      <th></th>\n",
       "      <th>Station ID</th>\n",
       "      <th>Dew</th>\n",
       "      <th>Humidity</th>\n",
       "      <th>Pressure</th>\n",
       "      <th>Temperature</th>\n",
       "      <th>Wind</th>\n",
       "      <th>Alert level</th>\n",
       "    </tr>\n",
       "  </thead>\n",
       "  <tbody>\n",
       "    <tr>\n",
       "      <th>count</th>\n",
       "      <td>805.000000</td>\n",
       "      <td>460.000000</td>\n",
       "      <td>805.000000</td>\n",
       "      <td>805.000000</td>\n",
       "      <td>805.000000</td>\n",
       "      <td>805.000000</td>\n",
       "      <td>805.000000</td>\n",
       "    </tr>\n",
       "    <tr>\n",
       "      <th>mean</th>\n",
       "      <td>11079.826087</td>\n",
       "      <td>17.888478</td>\n",
       "      <td>70.530559</td>\n",
       "      <td>1007.371677</td>\n",
       "      <td>22.656025</td>\n",
       "      <td>3.437143</td>\n",
       "      <td>1.963975</td>\n",
       "    </tr>\n",
       "    <tr>\n",
       "      <th>std</th>\n",
       "      <td>3549.609173</td>\n",
       "      <td>4.158737</td>\n",
       "      <td>16.304882</td>\n",
       "      <td>19.174542</td>\n",
       "      <td>3.794390</td>\n",
       "      <td>6.675221</td>\n",
       "      <td>1.323325</td>\n",
       "    </tr>\n",
       "    <tr>\n",
       "      <th>min</th>\n",
       "      <td>1584.000000</td>\n",
       "      <td>5.500000</td>\n",
       "      <td>13.000000</td>\n",
       "      <td>919.200000</td>\n",
       "      <td>4.000000</td>\n",
       "      <td>0.200000</td>\n",
       "      <td>0.000000</td>\n",
       "    </tr>\n",
       "    <tr>\n",
       "      <th>25%</th>\n",
       "      <td>8767.000000</td>\n",
       "      <td>15.075000</td>\n",
       "      <td>58.000000</td>\n",
       "      <td>1007.000000</td>\n",
       "      <td>20.500000</td>\n",
       "      <td>2.000000</td>\n",
       "      <td>1.000000</td>\n",
       "    </tr>\n",
       "    <tr>\n",
       "      <th>50%</th>\n",
       "      <td>13012.000000</td>\n",
       "      <td>18.000000</td>\n",
       "      <td>73.000000</td>\n",
       "      <td>1013.000000</td>\n",
       "      <td>23.000000</td>\n",
       "      <td>3.000000</td>\n",
       "      <td>2.000000</td>\n",
       "    </tr>\n",
       "    <tr>\n",
       "      <th>75%</th>\n",
       "      <td>13019.000000</td>\n",
       "      <td>21.500000</td>\n",
       "      <td>82.000000</td>\n",
       "      <td>1015.500000</td>\n",
       "      <td>24.500000</td>\n",
       "      <td>3.600000</td>\n",
       "      <td>3.000000</td>\n",
       "    </tr>\n",
       "    <tr>\n",
       "      <th>max</th>\n",
       "      <td>13252.000000</td>\n",
       "      <td>25.300000</td>\n",
       "      <td>100.000000</td>\n",
       "      <td>1024.500000</td>\n",
       "      <td>35.000000</td>\n",
       "      <td>150.000000</td>\n",
       "      <td>6.000000</td>\n",
       "    </tr>\n",
       "  </tbody>\n",
       "</table>\n",
       "</div>"
      ],
      "text/plain": [
       "         Station ID         Dew    Humidity     Pressure  Temperature  \\\n",
       "count    805.000000  460.000000  805.000000   805.000000   805.000000   \n",
       "mean   11079.826087   17.888478   70.530559  1007.371677    22.656025   \n",
       "std     3549.609173    4.158737   16.304882    19.174542     3.794390   \n",
       "min     1584.000000    5.500000   13.000000   919.200000     4.000000   \n",
       "25%     8767.000000   15.075000   58.000000  1007.000000    20.500000   \n",
       "50%    13012.000000   18.000000   73.000000  1013.000000    23.000000   \n",
       "75%    13019.000000   21.500000   82.000000  1015.500000    24.500000   \n",
       "max    13252.000000   25.300000  100.000000  1024.500000    35.000000   \n",
       "\n",
       "             Wind  Alert level  \n",
       "count  805.000000   805.000000  \n",
       "mean     3.437143     1.963975  \n",
       "std      6.675221     1.323325  \n",
       "min      0.200000     0.000000  \n",
       "25%      2.000000     1.000000  \n",
       "50%      3.000000     2.000000  \n",
       "75%      3.600000     3.000000  \n",
       "max    150.000000     6.000000  "
      ]
     },
     "execution_count": 6,
     "metadata": {},
     "output_type": "execute_result"
    }
   ],
   "source": [
    "data.describe()"
   ]
  },
  {
   "cell_type": "markdown",
   "metadata": {},
   "source": [
    "- Kiểm tra xem dữ liệu có bị thiếu xót không"
   ]
  },
  {
   "cell_type": "code",
   "execution_count": 7,
   "metadata": {},
   "outputs": [
    {
     "data": {
      "text/plain": [
       "Dew                   42.857143\n",
       "Dominent pollutant    14.906832\n",
       "PM10                   3.975155\n",
       "AQI index              0.496894\n",
       "SO2                    0.124224\n",
       "PM2.5                  0.124224\n",
       "Station ID             0.000000\n",
       "Status                 0.000000\n",
       "Data Time Tz           0.000000\n",
       "Data Time S            0.000000\n",
       "Wind                   0.000000\n",
       "Temperature            0.000000\n",
       "O3                     0.000000\n",
       "Pressure               0.000000\n",
       "NO2                    0.000000\n",
       "Humidity               0.000000\n",
       "CO                     0.000000\n",
       "Url                    0.000000\n",
       "Station name           0.000000\n",
       "Location               0.000000\n",
       "Alert level            0.000000\n",
       "dtype: float64"
      ]
     },
     "execution_count": 7,
     "metadata": {},
     "output_type": "execute_result"
    }
   ],
   "source": [
    "(data.isnull().sum() / data.shape[0] * 100).sort_values(ascending=False)"
   ]
  },
  {
   "cell_type": "markdown",
   "metadata": {},
   "source": [
    "Ta thấy có tổng cộng 6 cột thiếu dữ liệu, trong đó cột `Dew` thiếu dữ liệu đến 42% "
   ]
  },
  {
   "cell_type": "markdown",
   "metadata": {},
   "source": [
    "- Trước tiên ta xem xét các cột có kiểu dữ liệu object"
   ]
  },
  {
   "cell_type": "code",
   "execution_count": 8,
   "metadata": {},
   "outputs": [
    {
     "data": {
      "text/plain": [
       "Index(['AQI index', 'Location', 'Station name', 'Url', 'Dominent pollutant',\n",
       "       'CO', 'NO2', 'O3', 'PM10', 'PM2.5', 'SO2', 'Data Time S',\n",
       "       'Data Time Tz', 'Status'],\n",
       "      dtype='object')"
      ]
     },
     "execution_count": 8,
     "metadata": {},
     "output_type": "execute_result"
    }
   ],
   "source": [
    "object_col = data.select_dtypes('object').columns\n",
    "object_col"
   ]
  },
  {
   "cell_type": "code",
   "execution_count": 9,
   "metadata": {
    "colab": {
     "base_uri": "https://localhost:8080/",
     "height": 168
    },
    "id": "Lk_xR_GOuyvU",
    "outputId": "1ba3f23e-df2d-46d5-d896-1e2c5ce03a29"
   },
   "outputs": [
    {
     "data": {
      "text/html": [
       "<div>\n",
       "<style scoped>\n",
       "    .dataframe tbody tr th:only-of-type {\n",
       "        vertical-align: middle;\n",
       "    }\n",
       "\n",
       "    .dataframe tbody tr th {\n",
       "        vertical-align: top;\n",
       "    }\n",
       "\n",
       "    .dataframe thead th {\n",
       "        text-align: right;\n",
       "    }\n",
       "</style>\n",
       "<table border=\"1\" class=\"dataframe\">\n",
       "  <thead>\n",
       "    <tr style=\"text-align: right;\">\n",
       "      <th></th>\n",
       "      <th>AQI index</th>\n",
       "      <th>Location</th>\n",
       "      <th>Station name</th>\n",
       "      <th>Url</th>\n",
       "      <th>Dominent pollutant</th>\n",
       "      <th>CO</th>\n",
       "      <th>NO2</th>\n",
       "      <th>O3</th>\n",
       "      <th>PM10</th>\n",
       "      <th>PM2.5</th>\n",
       "      <th>SO2</th>\n",
       "      <th>Data Time S</th>\n",
       "      <th>Data Time Tz</th>\n",
       "      <th>Status</th>\n",
       "    </tr>\n",
       "  </thead>\n",
       "  <tbody>\n",
       "    <tr>\n",
       "      <th>count</th>\n",
       "      <td>801</td>\n",
       "      <td>805</td>\n",
       "      <td>805</td>\n",
       "      <td>805</td>\n",
       "      <td>685</td>\n",
       "      <td>805</td>\n",
       "      <td>805</td>\n",
       "      <td>805</td>\n",
       "      <td>773</td>\n",
       "      <td>804</td>\n",
       "      <td>804</td>\n",
       "      <td>805</td>\n",
       "      <td>805</td>\n",
       "      <td>805</td>\n",
       "    </tr>\n",
       "    <tr>\n",
       "      <th>unique</th>\n",
       "      <td>201</td>\n",
       "      <td>23</td>\n",
       "      <td>23</td>\n",
       "      <td>23</td>\n",
       "      <td>3</td>\n",
       "      <td>51</td>\n",
       "      <td>79</td>\n",
       "      <td>67</td>\n",
       "      <td>149</td>\n",
       "      <td>194</td>\n",
       "      <td>61</td>\n",
       "      <td>129</td>\n",
       "      <td>1</td>\n",
       "      <td>7</td>\n",
       "    </tr>\n",
       "    <tr>\n",
       "      <th>top</th>\n",
       "      <td>-</td>\n",
       "      <td>21.04975,105.74187</td>\n",
       "      <td>Bắc Ninh/Khu liên cơ Thuận Thành, Vietnam</td>\n",
       "      <td>https://aqicn.org/city/vietnam/hanoi/unis</td>\n",
       "      <td>pm25</td>\n",
       "      <td>-</td>\n",
       "      <td>-</td>\n",
       "      <td>-</td>\n",
       "      <td>-</td>\n",
       "      <td>-</td>\n",
       "      <td>-</td>\n",
       "      <td>2021-03-05T14:00:00</td>\n",
       "      <td>+07:00</td>\n",
       "      <td>Moderate</td>\n",
       "    </tr>\n",
       "    <tr>\n",
       "      <th>freq</th>\n",
       "      <td>133</td>\n",
       "      <td>35</td>\n",
       "      <td>35</td>\n",
       "      <td>35</td>\n",
       "      <td>604</td>\n",
       "      <td>139</td>\n",
       "      <td>198</td>\n",
       "      <td>422</td>\n",
       "      <td>159</td>\n",
       "      <td>115</td>\n",
       "      <td>398</td>\n",
       "      <td>18</td>\n",
       "      <td>805</td>\n",
       "      <td>224</td>\n",
       "    </tr>\n",
       "  </tbody>\n",
       "</table>\n",
       "</div>"
      ],
      "text/plain": [
       "       AQI index            Location  \\\n",
       "count        801                 805   \n",
       "unique       201                  23   \n",
       "top            -  21.04975,105.74187   \n",
       "freq         133                  35   \n",
       "\n",
       "                                     Station name  \\\n",
       "count                                         805   \n",
       "unique                                         23   \n",
       "top     Bắc Ninh/Khu liên cơ Thuận Thành, Vietnam   \n",
       "freq                                           35   \n",
       "\n",
       "                                              Url Dominent pollutant   CO  \\\n",
       "count                                         805                685  805   \n",
       "unique                                         23                  3   51   \n",
       "top     https://aqicn.org/city/vietnam/hanoi/unis               pm25    -   \n",
       "freq                                           35                604  139   \n",
       "\n",
       "        NO2   O3 PM10 PM2.5  SO2          Data Time S Data Time Tz    Status  \n",
       "count   805  805  773   804  804                  805          805       805  \n",
       "unique   79   67  149   194   61                  129            1         7  \n",
       "top       -    -    -     -    -  2021-03-05T14:00:00       +07:00  Moderate  \n",
       "freq    198  422  159   115  398                   18          805       224  "
      ]
     },
     "execution_count": 9,
     "metadata": {},
     "output_type": "execute_result"
    }
   ],
   "source": [
    "data.select_dtypes('object').describe()"
   ]
  },
  {
   "cell_type": "markdown",
   "metadata": {},
   "source": [
    "Cùng xem thử các nhãn của các cột kiểu object này"
   ]
  },
  {
   "cell_type": "code",
   "execution_count": 10,
   "metadata": {},
   "outputs": [
    {
     "name": "stdout",
     "output_type": "stream",
     "text": [
      "\n",
      "---AQI index----\n",
      "['102.00' '221.00' '281.00' '36.00' '68.00' '217.00' '195.00' '168.00'\n",
      " '48.00' '18.00' '251.00' '315.00' '224.00' '177.00' '179.00' '214.00' nan\n",
      " '213.00' '166.00' '191.00' '122.00' '192.00' '189.00' '-' '164.00'\n",
      " '131.00' '49.00' '38.00' '235.00' '252.00' '161.00' '183.00' '186.00'\n",
      " '158.00' '188.00' '159.00' '212.00' '114.00' '180.00' '26.00' '169.00'\n",
      " '176.00' '151.00' '65.00' '51.00' '226.00' '170.00' '149.00' '157.00'\n",
      " '160.00' '167.00' '155.00' '340.00' '80.00' '139.00' '70.00' '29.00'\n",
      " '147.00' '127.00' '32.00' '11.00' '137.00' '116.00' '150.00' '106.00'\n",
      " '132.00' '145.00' '146.00' '108.00' '109.00' '185.00' '130.00' '134.00'\n",
      " '17.00' '126.00' '103.00' '44.00' '20.00' '75.00' '92.00' '117.00'\n",
      " '73.00' '86.00' '104.00' '113.00' '79.00' '97.00' '14.00' '87.00' '67.00'\n",
      " '63.00' '45.00' '22.00' '142.00' '88.00' '71.00' '84.00' '72.00' '82.00'\n",
      " '199.00' '91.00' '143.00' '30.00' '35.00' '141.00' '46.00' '16.00'\n",
      " '118.00' '96.00' '94.00' '138.00' '99.00' '215.00' '21.00' '175.00'\n",
      " '54.00' '12.00' '182.00' '178.00' '156.00' '59.00' '135.00' '33.00'\n",
      " '10.00' '140.00' '184.00' '24.00' '111.00' '43.00' '5.00' '115.00'\n",
      " '144.00' '95.00' '119.00' '98.00' '105.00' '83.00' '76.00' '93.00'\n",
      " '37.00' '40.00' '74.00' '124.00' '90.00' '31.00' '8.00' '123.00' '89.00'\n",
      " '112.00' '78.00' '25.00' '69.00' '85.00' '77.00' '61.00' '64.00' '55.00'\n",
      " '162.00' '50.00' '1.00' '34.00' '42.00' '53.00' '47.00' '148.00' '23.00'\n",
      " '6.00' '57.00' '121.00' '101.00' '153.00' '41.00' '81.00' '154.00'\n",
      " '125.00' '165.00' '27.00' '120.00' '110.00' '100.00' '194.00' '152.00'\n",
      " '4.00' '60.00' '133.00' '52.00' '2.00' '7.00' '3.00' '198.00' '15.00'\n",
      " '19.00' '28.00' '39.00' '62.00' '13.00' '9.00' '58.00' '66.00' '190.00'\n",
      " '107.00' '128.00']\n",
      "\n",
      "---Location----\n",
      "['10.782978,106.700711' '21.0811211,105.8180306' '21.0215063,105.8188748'\n",
      " '13.998599,107.996482' '16.46226,107.596351' '21.04975,105.74187'\n",
      " '21.1137452,105.9268934' '22.3221386,104.1214227' '20.9416,107.1158'\n",
      " '21.0357507,106.7641068' '21.1232473,106.2883295'\n",
      " '21.0272212,106.0342099' '21.03982,105.84726' '20.98832,105.854897'\n",
      " '21.01994,105.77056' '21.01525,105.80013' '16.074,108.217'\n",
      " '12.284358,109.192524' '21.02022,105.81232' '21.00577,105.74842'\n",
      " '21.05121,105.78232' '21.0072,105.83572' '22.6782,106.245']\n",
      "\n",
      "---Station name----\n",
      "['Ho Chi Minh City US Consulate, Vietnam (Lãnh sự quán Hoa Kỳ, Hồ Chí Minh)'\n",
      " 'United Nations International School of Hanoi, Vietnam (Trường Quốc tế Liên Hợp Quốc Hà Nội)'\n",
      " 'Hanoi US Embassy, Vietnam (Đại sứ quán Mỹ, Hà Nội)'\n",
      " 'Gia Lai/phường Thống Nhất - Pleiku, Vietnam'\n",
      " 'Thừa Thiên Huế/83 Hùng Vương, Vietnam'\n",
      " 'Hà Nội/UBND P. Minh Khai, Bắc Từ Liêm, Vietnam'\n",
      " 'Bắc Ninh/Châu Khê, Vietnam' 'Lào Cai/KCN TALOONG1, Vietnam'\n",
      " 'Ha Long, Vietnam (Tp Hạ Long)' 'Quảng Ninh/UBND TP Uông Bí, Vietnam'\n",
      " 'Bắc Ninh/Phong Cốc, Vietnam' 'Bắc Ninh/Khu liên cơ Thuận Thành, Vietnam'\n",
      " 'Hà Nội/Trụ sở Công an P .Hàng Mã, Vietnam'\n",
      " 'Hà Nội/UBND P .Hoàng Văn Thụ - Hoàng Mai, Vietnam'\n",
      " 'Hà Nội/UBND P. Mỹ Đình I, Vietnam' 'Hà Nội/Chi cục BVMT, Vietnam'\n",
      " 'Da Nang, Vietnam (TP Đà Nẵng)' 'Nha Trang, Vietnam'\n",
      " 'Hà Nội/Tòa nhà quản lý Hồ Thành Công, Vietnam'\n",
      " 'Hà Nội/UBND P.Tây Mỗ, Nam Từ Liêm, Vietnam'\n",
      " 'Hà Nội/36A Phạm Văn Đồng, Vietnam' 'Hà Nội/Mầm non Kim Liên, Vietnam'\n",
      " 'Cao Bằng/Trạm khí TTQT, Vietnam']\n",
      "\n",
      "---Url----\n",
      "['https://aqicn.org/city/vietnam/ho-chi-minh-city/us-consulate'\n",
      " 'https://aqicn.org/city/vietnam/hanoi/unis'\n",
      " 'https://aqicn.org/city/vietnam/hanoi/us-embassy'\n",
      " 'https://aqicn.org/city/vietnam/gia-lai/phuong-thong-nhat-pleiku'\n",
      " 'https://aqicn.org/city/vietnam/thua-thien-hue/83-hung-vuong'\n",
      " 'https://aqicn.org/city/vietnam/ha-noi/ubnd-p.-minh-khai--bac-tu-liem'\n",
      " 'https://aqicn.org/city/vietnam/bac-ninh/chau-khe'\n",
      " 'https://aqicn.org/city/vietnam/lao-cai/kcn-taloong1'\n",
      " 'https://aqicn.org/city/vietnam/ha-long'\n",
      " 'https://aqicn.org/city/vietnam/quang-ninh/ubnd-tp-uong-bi'\n",
      " 'https://aqicn.org/city/vietnam/bac-ninh/phong-coc'\n",
      " 'https://aqicn.org/city/vietnam/bac-ninh/khu-lien-co-thuan-thanh'\n",
      " 'https://aqicn.org/city/vietnam/ha-noi/tru-so-cong-an-p-.hang-ma'\n",
      " 'https://aqicn.org/city/vietnam/ha-noi/ubnd-p-.hoang-van-thu-hoang-mai'\n",
      " 'https://aqicn.org/city/vietnam/ha-noi/ubnd-p.-my-dinh-i'\n",
      " 'https://aqicn.org/city/vietnam/ha-noi/chi-cuc-bvmt'\n",
      " 'https://aqicn.org/city/vietnam/da-nang'\n",
      " 'https://aqicn.org/city/vietnam/nha-trang'\n",
      " 'https://aqicn.org/city/vietnam/ha-noi/toa-nha-quan-ly-ho-thanh-cong'\n",
      " 'https://aqicn.org/city/vietnam/ha-noi/ubnd-p.tay-mo--nam-tu-liem'\n",
      " 'https://aqicn.org/city/vietnam/ha-noi/36a-pham-van-dong'\n",
      " 'https://aqicn.org/city/vietnam/ha-noi/mam-non-kim-lien'\n",
      " 'http://cem.gov.vn/']\n",
      "\n",
      "---Dominent pollutant----\n",
      "['pm25' 'aqi' nan 'pm10']\n",
      "\n",
      "---CO----\n",
      "['-' '0.30' '3.00' '2.00' '12.00' '8.00' '37.00' '5.00' '7.00' '61.00'\n",
      " '20.00' '14.00' '19.00' '31.00' '13.00' '38.00' '17.00' '0.10' '4.00'\n",
      " '6.00' '48.00' '9.00' '0.20' '11.00' '40.00' '1.00' '10.00' '23.00'\n",
      " '36.00' '51.00' '15.00' '42.00' '41.00' '30.00' '18.00' '34.00' '16.00'\n",
      " '28.00' '21.00' '32.00' '35.00' '44.00' '27.00' '39.00' '33.00' '55.00'\n",
      " '29.00' '43.00' '22.00' '98.00' '56.00']\n",
      "\n",
      "---NO2----\n",
      "['-' '8.70' '6.00' '65.00' '17.00' '2.00' '11.00' '5.00' '52.00' '48.00'\n",
      " '80.00' '42.00' '47.00' '36.00' '1.00' '13.00' '34.00' '33.00' '31.00'\n",
      " '14.00' '3.00' '25.00' '15.00' '30.00' '20.00' '4.00' '37.00' '12.00'\n",
      " '28.00' '16.00' '9.00' '8.00' '35.00' '23.00' '12.80' '18.00' '29.00'\n",
      " '46.00' '26.00' '24.00' '10.00' '10.10' '27.00' '22.00' '15.60' '19.00'\n",
      " '50.00' '21.00' '14.20' '32.00' '54.00' '13.30' '7.00' '49.00' '45.00'\n",
      " '9.20' '43.00' '40.00' '38.00' '11.50' '19.20' '20.60' '9.60' '11.90'\n",
      " '12.40' '7.40' '4.60' '5.10' '73.00' '39.00' '53.00' '1.40' '59.00'\n",
      " '7.80' '6.90' '44.00' '41.00' '8.30' '60.00']\n",
      "\n",
      "---O3----\n",
      "['-' '0.90' '9.00' '1.00' '23.00' '39.00' '2.00' '35.00' '13.00' '4.90'\n",
      " '20.00' '38.00' '30.00' '33.00' '24.00' '3.70' '61.00' '41.00' '4.00'\n",
      " '45.00' '32.00' '22.00' '16.00' '3.00' '18.00' '31.00' '4.50' '26.00'\n",
      " '29.00' '27.00' '25.00' '5.00' '15.00' '63.00' '42.00' '8.00' '11.00'\n",
      " '12.00' '10.00' '19.00' '2.10' '21.00' '5.70' '6.00' '5.30' '53.00'\n",
      " '7.00' '28.00' '48.00' '43.00' '4.10' '47.00' '10.60' '3.30' '36.00'\n",
      " '34.00' '7.80' '37.00' '10.20' '40.00' '11.80' '7.40' '46.00' '14.00'\n",
      " '2.50' '17.00' '2.90']\n",
      "\n",
      "---PM10----\n",
      "[nan '29.00' '52.00' '194.00' '119.00' '65.00' '25.00' '12.00' '155.00'\n",
      " '205.00' '185.00' '112.00' '122.00' '149.00' '-' '175.00' '105.00'\n",
      " '177.00' '130.00' '204.00' '18.00' '156.00' '88.00' '24.00' '26.00'\n",
      " '138.00' '157.00' '90.00' '114.00' '126.00' '151.00' '94.00' '152.00'\n",
      " '95.00' '212.00' '123.00' '102.00' '55.00' '34.00' '136.00' '128.00'\n",
      " '81.00' '92.00' '106.00' '83.00' '121.00' '89.00' '340.00' '53.00'\n",
      " '56.00' '17.00' '7.00' '91.00' '66.00' '77.00' '84.00' '61.00' '104.00'\n",
      " '21.00' '87.00' '23.00' '59.00' '82.00' '51.00' '64.00' '47.00' '69.00'\n",
      " '186.00' '14.00' '71.00' '63.00' '13.00' '60.00' '58.00' '46.00' '199.00'\n",
      " '22.00' '20.00' '99.00' '31.00' '70.00' '74.00' '98.00' '97.00' '96.00'\n",
      " '160.00' '28.00' '8.00' '147.00' '118.00' '158.00' '161.00' '168.00'\n",
      " '27.00' '131.00' '39.00' '111.00' '132.00' '78.00' '117.00' '16.00'\n",
      " '42.00' '68.00' '3.00' '57.00' '32.00' '67.00' '76.00' '40.00' '5.00'\n",
      " '80.00' '4.00' '62.00' '43.00' '9.00' '45.00' '1.00' '44.00' '41.00'\n",
      " '15.00' '49.00' '19.00' '48.00' '30.00' '37.00' '124.00' '73.00' '93.00'\n",
      " '54.00' '85.00' '38.00' '79.00' '50.00' '75.00' '33.00' '86.00' '72.00'\n",
      " '6.00' '2.00' '35.00' '198.00' '11.00' '36.00' '115.00' '10.00' '109.00'\n",
      " '150.00' '145.00' '169.00' '110.00']\n",
      "\n",
      "---PM2.5----\n",
      "['102.00' '-' '281.00' '36.00' '68.00' '217.00' '195.00' '168.00' '48.00'\n",
      " '18.00' '251.00' '315.00' '224.00' '177.00' '179.00' '214.00' '213.00'\n",
      " '166.00' '221.00' '191.00' '122.00' '189.00' '17.00' '164.00' '131.00'\n",
      " '49.00' '38.00' '235.00' '252.00' '161.00' '183.00' '186.00' '158.00'\n",
      " '188.00' '159.00' '208.00' '114.00' '26.00' '169.00' '176.00' '151.00'\n",
      " '65.00' '51.00' '226.00' '170.00' '149.00' '157.00' '160.00' '167.00'\n",
      " '155.00' '194.00' '80.00' '139.00' '70.00' '29.00' '147.00' '127.00'\n",
      " '32.00' '11.00' '137.00' '116.00' '150.00' '106.00' '132.00' '145.00'\n",
      " '146.00' '108.00' '109.00' '174.00' '134.00' '126.00' '103.00' '44.00'\n",
      " '20.00' '75.00' '92.00' '117.00' '73.00' '86.00' '104.00' '113.00'\n",
      " '71.00' '79.00' '14.00' '87.00' '67.00' '28.00' '45.00' '22.00' '142.00'\n",
      " '88.00' '63.00' '84.00' '72.00' '82.00' '91.00' '30.00' '35.00' '141.00'\n",
      " '46.00' '16.00' '118.00' '119.00' '96.00' '94.00' '138.00' '99.00'\n",
      " '215.00' '21.00' '175.00' '54.00' '12.00' '182.00' '192.00' '178.00'\n",
      " '156.00' '59.00' '19.00' '180.00' '60.00' '135.00' '33.00' '10.00'\n",
      " '97.00' '140.00' '184.00' '24.00' '111.00' '34.00' '43.00' '5.00'\n",
      " '115.00' '144.00' '95.00' '98.00' '105.00' '53.00' '76.00' '93.00'\n",
      " '37.00' '40.00' '83.00' '74.00' '124.00' '50.00' '31.00' '8.00' '123.00'\n",
      " '89.00' '112.00' '78.00' '90.00' '25.00' '39.00' '85.00' '61.00' '64.00'\n",
      " '55.00' '162.00' '1.00' '42.00' nan '77.00' '47.00' '148.00' '23.00'\n",
      " '6.00' '57.00' '121.00' '101.00' '153.00' '56.00' '41.00' '81.00'\n",
      " '154.00' '165.00' '27.00' '120.00' '110.00' '100.00' '152.00' '4.00'\n",
      " '133.00' '52.00' '2.00' '3.00' '15.00' '62.00' '58.00' '69.00' '66.00'\n",
      " '190.00' '128.00' '107.00' '130.00']\n",
      "\n",
      "---SO2----\n",
      "['-' '2.10' '1.00' '2.00' '3.00' '17.00' '6.00' '12.00' '5.00' '3.10'\n",
      " '22.00' '24.00' '19.00' '15.00' '4.60' '4.00' '150.00' '14.00' '16.00'\n",
      " '1.60' '23.00' '7.00' '33.00' '60.00' '11.00' '5.10' '13.00' '46.00'\n",
      " '20.00' '25.00' '9.00' '99.00' '54.00' '59.00' '41.00' '3.60' '70.00'\n",
      " '3.80' nan '99.70' '76.00' '4.10' '117.00' '6.10' '44.00' '8.00' '5.60'\n",
      " '19.20' '85.00' '21.80' '78.00' '24.80' '100.00' '53.00' '127.00' '40.00'\n",
      " '9.20' '45.00' '10.00' '21.00' '31.00' '58.00']\n",
      "\n",
      "---Data Time S----\n",
      "['2021-01-21T19:00:00' '2021-01-21T20:00:00' '2021-01-21T05:00:00'\n",
      " '2021-01-21T21:00:00' '2021-01-22T13:00:00' '2021-01-22T12:00:00'\n",
      " '2021-01-23T15:00:00' '2021-01-23T14:00:00' '2021-01-23T13:00:00'\n",
      " '2021-01-23T11:00:00' '2021-01-25T19:00:00' '2021-01-25T15:00:00'\n",
      " '2021-01-25T18:00:00' '2021-01-26T16:00:00' '2021-01-26T15:00:00'\n",
      " '2021-01-26T14:00:00' '2021-01-27T15:00:00' '2021-01-27T14:00:00'\n",
      " '2021-01-29T14:00:00' '2021-01-29T15:00:00' '2021-01-29T13:00:00'\n",
      " '2021-01-30T21:00:00' '2021-01-30T22:00:00' '2021-01-30T19:00:00'\n",
      " '2021-01-30T20:00:00' '2021-01-31T23:00:00' '2021-01-31T22:00:00'\n",
      " '2021-01-31T21:00:00' '2021-01-31T20:00:00' '2021-02-03T00:00:00'\n",
      " '2021-02-02T21:00:00' '2021-02-02T10:00:00' '2021-02-02T23:00:00'\n",
      " '2021-02-02T11:00:00' '2021-02-02T17:00:00' '2021-02-03T21:00:00'\n",
      " '2021-02-03T20:00:00' '2021-02-03T07:00:00' '2021-02-05T14:00:00'\n",
      " '2021-02-05T13:00:00' '2021-02-06T17:00:00' '2021-02-06T18:00:00'\n",
      " '2021-02-06T11:00:00' '2021-02-06T14:00:00' '2021-02-09T15:00:00'\n",
      " '2021-02-09T14:00:00' '2021-02-06T15:00:00' '2021-02-14T20:00:00'\n",
      " '2021-02-14T21:00:00' '2021-02-11T16:00:00' '2021-02-14T18:00:00'\n",
      " '2021-02-15T14:00:00' '2021-02-15T12:00:00' '2021-02-15T13:00:00'\n",
      " '2021-02-16T13:00:00' '2021-02-16T14:00:00' '2021-02-16T12:00:00'\n",
      " '2021-02-17T12:00:00' '2021-02-17T13:00:00' '2021-02-17T09:00:00'\n",
      " '2021-02-17T11:00:00' '2021-02-18T13:00:00' '2021-02-18T14:00:00'\n",
      " '2021-02-18T12:00:00' '2021-02-18T09:00:00' '2021-02-20T20:00:00'\n",
      " '2021-02-19T16:00:00' '2021-02-20T19:00:00' '2021-02-22T17:00:00'\n",
      " '2021-02-19T18:00:00' '2021-02-22T16:00:00' '2021-02-23T15:00:00'\n",
      " '2021-02-23T10:00:00' '2021-02-23T14:00:00' '2021-02-24T13:00:00'\n",
      " '2021-02-24T14:00:00' '2021-02-24T12:00:00' '2021-02-23T18:00:00'\n",
      " '2021-02-27T15:00:00' '2021-02-27T16:00:00' '2021-02-26T15:00:00'\n",
      " '2021-02-27T11:00:00' '2021-02-27T14:00:00' '2021-02-25T20:00:00'\n",
      " '2021-03-02T14:00:00' '2021-03-02T13:00:00' '2021-03-02T11:00:00'\n",
      " '2021-03-03T18:00:00' '2021-03-03T17:00:00' '2021-03-03T09:00:00'\n",
      " '2021-03-05T14:00:00' '2021-03-05T13:00:00' '2021-03-05T15:00:00'\n",
      " '2021-03-08T15:00:00' '2021-03-08T14:00:00' '2021-03-14T19:00:00'\n",
      " '2021-03-14T15:00:00' '2021-03-14T18:00:00' '2021-03-14T11:00:00'\n",
      " '2021-03-12T12:00:00' '2021-03-16T15:00:00' '2021-03-16T14:00:00'\n",
      " '2021-03-15T05:00:00' '2021-03-24T15:00:00' '2021-03-21T02:00:00'\n",
      " '2021-03-24T14:00:00' '2021-03-22T13:00:00' '2021-03-29T09:00:00'\n",
      " '2021-03-27T21:00:00' '2021-03-29T10:00:00' '2021-03-26T18:00:00'\n",
      " '2021-03-26T17:00:00' '2021-03-28T04:00:00' '2021-03-29T05:00:00'\n",
      " '2021-03-28T07:00:00' '2021-03-25T20:00:00' '2021-03-28T00:00:00'\n",
      " '2021-03-26T06:00:00' '2021-03-31T14:00:00' '2021-03-31T15:00:00'\n",
      " '2021-03-30T19:00:00' '2021-03-30T18:00:00' '2021-04-01T20:00:00'\n",
      " '2021-04-01T19:00:00' '2021-04-01T09:00:00' '2021-04-05T19:00:00'\n",
      " '2021-04-05T20:00:00' '2021-04-04T02:00:00' '2021-04-05T17:00:00']\n",
      "\n",
      "---Data Time Tz----\n",
      "['+07:00']\n",
      "\n",
      "---Status----\n",
      "['Unhealthy for sensitive groups' 'Very unhealthy' 'Good' 'Moderate'\n",
      " 'Unhealthy' 'Hazardous' 'No data']\n"
     ]
    }
   ],
   "source": [
    "for col in object_col:\n",
    "    print(f\"\\n---{col}----\")\n",
    "    print(data[col].unique())"
   ]
  },
  {
   "cell_type": "markdown",
   "metadata": {},
   "source": [
    "Khi xem các nhãn của các cột mang kiểu dữ liệu object ở phía trên, ta thấy một điều rằng thật ra chỉ có các cột sau là kiểu dữ liệu object: `Station name`, `Status`, `Date time Tz`, `Data Time S`, `Dominent pollutant`, `Url`\n",
    "\n",
    "Các cột còn lại `AQI index`, `Location`, `CO`, `NO2`, `O3`, `PM10`, `PM2.5`, `SO2` thật ra là kiểu dữ liệu số nhưng vì mang nhãn \"-\" nên bị nhận diện kiểu object, còn ở cột `Location` thì bao gồm 2 số tọa độ x,y ngăn cách bởi dấu \",\". Ta sẽ tiền xử lí đưa các cột này thành cột mang kiểu dữ liệu số  như sau:"
   ]
  },
  {
   "cell_type": "code",
   "execution_count": 11,
   "metadata": {},
   "outputs": [],
   "source": [
    "data.replace({\"-\": None}, inplace=True)\n",
    "cols = ['AQI index', 'CO', 'NO2', 'O3', 'PM10', 'PM2.5', 'SO2']\n",
    "data[cols] = data[cols].apply(pd.to_numeric)"
   ]
  },
  {
   "cell_type": "code",
   "execution_count": 12,
   "metadata": {},
   "outputs": [
    {
     "data": {
      "text/html": [
       "<div>\n",
       "<style scoped>\n",
       "    .dataframe tbody tr th:only-of-type {\n",
       "        vertical-align: middle;\n",
       "    }\n",
       "\n",
       "    .dataframe tbody tr th {\n",
       "        vertical-align: top;\n",
       "    }\n",
       "\n",
       "    .dataframe thead th {\n",
       "        text-align: right;\n",
       "    }\n",
       "</style>\n",
       "<table border=\"1\" class=\"dataframe\">\n",
       "  <thead>\n",
       "    <tr style=\"text-align: right;\">\n",
       "      <th></th>\n",
       "      <th>Station ID</th>\n",
       "      <th>AQI index</th>\n",
       "      <th>CO</th>\n",
       "      <th>Dew</th>\n",
       "      <th>Humidity</th>\n",
       "      <th>NO2</th>\n",
       "      <th>O3</th>\n",
       "      <th>Pressure</th>\n",
       "      <th>PM10</th>\n",
       "      <th>PM2.5</th>\n",
       "      <th>SO2</th>\n",
       "      <th>Temperature</th>\n",
       "      <th>Wind</th>\n",
       "      <th>Alert level</th>\n",
       "    </tr>\n",
       "  </thead>\n",
       "  <tbody>\n",
       "    <tr>\n",
       "      <th>count</th>\n",
       "      <td>805.000000</td>\n",
       "      <td>668.000000</td>\n",
       "      <td>666.000000</td>\n",
       "      <td>460.000000</td>\n",
       "      <td>805.000000</td>\n",
       "      <td>607.000000</td>\n",
       "      <td>383.000000</td>\n",
       "      <td>805.000000</td>\n",
       "      <td>614.000000</td>\n",
       "      <td>689.000000</td>\n",
       "      <td>406.000000</td>\n",
       "      <td>805.000000</td>\n",
       "      <td>805.000000</td>\n",
       "      <td>805.000000</td>\n",
       "    </tr>\n",
       "    <tr>\n",
       "      <th>mean</th>\n",
       "      <td>11079.826087</td>\n",
       "      <td>93.693114</td>\n",
       "      <td>9.635285</td>\n",
       "      <td>17.888478</td>\n",
       "      <td>70.530559</td>\n",
       "      <td>15.510544</td>\n",
       "      <td>14.544386</td>\n",
       "      <td>1007.371677</td>\n",
       "      <td>59.016287</td>\n",
       "      <td>88.814224</td>\n",
       "      <td>10.641379</td>\n",
       "      <td>22.656025</td>\n",
       "      <td>3.437143</td>\n",
       "      <td>1.963975</td>\n",
       "    </tr>\n",
       "    <tr>\n",
       "      <th>std</th>\n",
       "      <td>3549.609173</td>\n",
       "      <td>54.556108</td>\n",
       "      <td>12.749540</td>\n",
       "      <td>4.158737</td>\n",
       "      <td>16.304882</td>\n",
       "      <td>13.542684</td>\n",
       "      <td>14.103062</td>\n",
       "      <td>19.174542</td>\n",
       "      <td>40.565092</td>\n",
       "      <td>53.852947</td>\n",
       "      <td>22.162652</td>\n",
       "      <td>3.794390</td>\n",
       "      <td>6.675221</td>\n",
       "      <td>1.323325</td>\n",
       "    </tr>\n",
       "    <tr>\n",
       "      <th>min</th>\n",
       "      <td>1584.000000</td>\n",
       "      <td>1.000000</td>\n",
       "      <td>0.100000</td>\n",
       "      <td>5.500000</td>\n",
       "      <td>13.000000</td>\n",
       "      <td>1.000000</td>\n",
       "      <td>0.900000</td>\n",
       "      <td>919.200000</td>\n",
       "      <td>1.000000</td>\n",
       "      <td>1.000000</td>\n",
       "      <td>1.000000</td>\n",
       "      <td>4.000000</td>\n",
       "      <td>0.200000</td>\n",
       "      <td>0.000000</td>\n",
       "    </tr>\n",
       "    <tr>\n",
       "      <th>25%</th>\n",
       "      <td>8767.000000</td>\n",
       "      <td>51.000000</td>\n",
       "      <td>3.000000</td>\n",
       "      <td>15.075000</td>\n",
       "      <td>58.000000</td>\n",
       "      <td>5.000000</td>\n",
       "      <td>2.000000</td>\n",
       "      <td>1007.000000</td>\n",
       "      <td>29.000000</td>\n",
       "      <td>45.000000</td>\n",
       "      <td>2.000000</td>\n",
       "      <td>20.500000</td>\n",
       "      <td>2.000000</td>\n",
       "      <td>1.000000</td>\n",
       "    </tr>\n",
       "    <tr>\n",
       "      <th>50%</th>\n",
       "      <td>13012.000000</td>\n",
       "      <td>91.000000</td>\n",
       "      <td>5.000000</td>\n",
       "      <td>18.000000</td>\n",
       "      <td>73.000000</td>\n",
       "      <td>12.000000</td>\n",
       "      <td>9.000000</td>\n",
       "      <td>1013.000000</td>\n",
       "      <td>56.000000</td>\n",
       "      <td>86.000000</td>\n",
       "      <td>3.900000</td>\n",
       "      <td>23.000000</td>\n",
       "      <td>3.000000</td>\n",
       "      <td>2.000000</td>\n",
       "    </tr>\n",
       "    <tr>\n",
       "      <th>75%</th>\n",
       "      <td>13019.000000</td>\n",
       "      <td>125.250000</td>\n",
       "      <td>11.000000</td>\n",
       "      <td>21.500000</td>\n",
       "      <td>82.000000</td>\n",
       "      <td>22.000000</td>\n",
       "      <td>24.000000</td>\n",
       "      <td>1015.500000</td>\n",
       "      <td>75.750000</td>\n",
       "      <td>121.000000</td>\n",
       "      <td>6.000000</td>\n",
       "      <td>24.500000</td>\n",
       "      <td>3.600000</td>\n",
       "      <td>3.000000</td>\n",
       "    </tr>\n",
       "    <tr>\n",
       "      <th>max</th>\n",
       "      <td>13252.000000</td>\n",
       "      <td>340.000000</td>\n",
       "      <td>98.000000</td>\n",
       "      <td>25.300000</td>\n",
       "      <td>100.000000</td>\n",
       "      <td>80.000000</td>\n",
       "      <td>63.000000</td>\n",
       "      <td>1024.500000</td>\n",
       "      <td>340.000000</td>\n",
       "      <td>315.000000</td>\n",
       "      <td>150.000000</td>\n",
       "      <td>35.000000</td>\n",
       "      <td>150.000000</td>\n",
       "      <td>6.000000</td>\n",
       "    </tr>\n",
       "  </tbody>\n",
       "</table>\n",
       "</div>"
      ],
      "text/plain": [
       "         Station ID   AQI index          CO         Dew    Humidity  \\\n",
       "count    805.000000  668.000000  666.000000  460.000000  805.000000   \n",
       "mean   11079.826087   93.693114    9.635285   17.888478   70.530559   \n",
       "std     3549.609173   54.556108   12.749540    4.158737   16.304882   \n",
       "min     1584.000000    1.000000    0.100000    5.500000   13.000000   \n",
       "25%     8767.000000   51.000000    3.000000   15.075000   58.000000   \n",
       "50%    13012.000000   91.000000    5.000000   18.000000   73.000000   \n",
       "75%    13019.000000  125.250000   11.000000   21.500000   82.000000   \n",
       "max    13252.000000  340.000000   98.000000   25.300000  100.000000   \n",
       "\n",
       "              NO2          O3     Pressure        PM10       PM2.5  \\\n",
       "count  607.000000  383.000000   805.000000  614.000000  689.000000   \n",
       "mean    15.510544   14.544386  1007.371677   59.016287   88.814224   \n",
       "std     13.542684   14.103062    19.174542   40.565092   53.852947   \n",
       "min      1.000000    0.900000   919.200000    1.000000    1.000000   \n",
       "25%      5.000000    2.000000  1007.000000   29.000000   45.000000   \n",
       "50%     12.000000    9.000000  1013.000000   56.000000   86.000000   \n",
       "75%     22.000000   24.000000  1015.500000   75.750000  121.000000   \n",
       "max     80.000000   63.000000  1024.500000  340.000000  315.000000   \n",
       "\n",
       "              SO2  Temperature        Wind  Alert level  \n",
       "count  406.000000   805.000000  805.000000   805.000000  \n",
       "mean    10.641379    22.656025    3.437143     1.963975  \n",
       "std     22.162652     3.794390    6.675221     1.323325  \n",
       "min      1.000000     4.000000    0.200000     0.000000  \n",
       "25%      2.000000    20.500000    2.000000     1.000000  \n",
       "50%      3.900000    23.000000    3.000000     2.000000  \n",
       "75%      6.000000    24.500000    3.600000     3.000000  \n",
       "max    150.000000    35.000000  150.000000     6.000000  "
      ]
     },
     "execution_count": 12,
     "metadata": {},
     "output_type": "execute_result"
    }
   ],
   "source": [
    "data.describe()"
   ]
  },
  {
   "cell_type": "markdown",
   "metadata": {},
   "source": [
    "Khi cho nhãn \"-\" là các giá trị None thì dữ liệu sẽ xuât hiện thêm các cột bị thiếu dữ liệu. Ta xem lại phần trăm thiếu dữ liệu ở các cột"
   ]
  },
  {
   "cell_type": "code",
   "execution_count": 13,
   "metadata": {},
   "outputs": [
    {
     "data": {
      "text/plain": [
       "O3                    52.422360\n",
       "SO2                   49.565217\n",
       "Dew                   42.857143\n",
       "NO2                   24.596273\n",
       "PM10                  23.726708\n",
       "CO                    17.267081\n",
       "AQI index             17.018634\n",
       "Dominent pollutant    14.906832\n",
       "PM2.5                 14.409938\n",
       "Status                 0.000000\n",
       "Data Time Tz           0.000000\n",
       "Data Time S            0.000000\n",
       "Wind                   0.000000\n",
       "Temperature            0.000000\n",
       "Station ID             0.000000\n",
       "Pressure               0.000000\n",
       "Humidity               0.000000\n",
       "Url                    0.000000\n",
       "Station name           0.000000\n",
       "Location               0.000000\n",
       "Alert level            0.000000\n",
       "dtype: float64"
      ]
     },
     "execution_count": 13,
     "metadata": {},
     "output_type": "execute_result"
    }
   ],
   "source": [
    "(data.isnull().sum() / data.shape[0] * 100).sort_values(ascending=False)"
   ]
  },
  {
   "cell_type": "markdown",
   "metadata": {},
   "source": [
    "Phân này ta sẽ không tiền xử lí các dữ liệu bị thiếu. Tiếp theo ta tiến hành phân tích dữ liệu sau khi đã tiền xử lí, tìm hiểu một số ý nghĩa cần thiết rút ra từ tập dữ liệu này"
   ]
  },
  {
   "cell_type": "code",
   "execution_count": 85,
   "metadata": {},
   "outputs": [],
   "source": [
    "# another preprocessing\n",
    "\n",
    "## Chuyển về dạng date time\n",
    "data['Data Time S'] = data['Data Time S'].apply(pd.to_datetime)\n",
    "\n",
    "data['Month'] = data['Data Time S'].apply(lambda x: x.month)"
   ]
  },
  {
   "cell_type": "markdown",
   "metadata": {},
   "source": [
    "## Analysis Data"
   ]
  },
  {
   "cell_type": "markdown",
   "metadata": {},
   "source": [
    "Đầu tiên xem phân bố các nhãn của các trạm trong tập dữ liệu này"
   ]
  },
  {
   "cell_type": "code",
   "execution_count": 14,
   "metadata": {
    "colab": {
     "base_uri": "https://localhost:8080/",
     "height": 168
    },
    "id": "4YnJ0xeQuyvV",
    "outputId": "180dc13b-0a4f-455a-bf37-3d284a983c79"
   },
   "outputs": [
    {
     "data": {
      "text/plain": [
       "Bắc Ninh/Khu liên cơ Thuận Thành, Vietnam                                                      35\n",
       "Hà Nội/UBND P. Minh Khai, Bắc Từ Liêm, Vietnam                                                 35\n",
       "Bắc Ninh/Châu Khê, Vietnam                                                                     35\n",
       "United Nations International School of Hanoi, Vietnam (Trường Quốc tế Liên Hợp Quốc Hà Nội)    35\n",
       "Hà Nội/Chi cục BVMT, Vietnam                                                                   35\n",
       "Hà Nội/UBND P .Hoàng Văn Thụ - Hoàng Mai, Vietnam                                              35\n",
       "Hà Nội/Mầm non Kim Liên, Vietnam                                                               35\n",
       "Hà Nội/Tòa nhà quản lý Hồ Thành Công, Vietnam                                                  35\n",
       "Hà Nội/UBND P. Mỹ Đình I, Vietnam                                                              35\n",
       "Lào Cai/KCN TALOONG1, Vietnam                                                                  35\n",
       "Ho Chi Minh City US Consulate, Vietnam (Lãnh sự quán Hoa Kỳ, Hồ Chí Minh)                      35\n",
       "Gia Lai/phường Thống Nhất - Pleiku, Vietnam                                                    35\n",
       "Hà Nội/UBND P.Tây Mỗ, Nam Từ Liêm, Vietnam                                                     35\n",
       "Bắc Ninh/Phong Cốc, Vietnam                                                                    35\n",
       "Ha Long, Vietnam (Tp Hạ Long)                                                                  35\n",
       "Hà Nội/Trụ sở Công an P .Hàng Mã, Vietnam                                                      35\n",
       "Hà Nội/36A Phạm Văn Đồng, Vietnam                                                              35\n",
       "Hanoi US Embassy, Vietnam (Đại sứ quán Mỹ, Hà Nội)                                             35\n",
       "Da Nang, Vietnam (TP Đà Nẵng)                                                                  35\n",
       "Thừa Thiên Huế/83 Hùng Vương, Vietnam                                                          35\n",
       "Quảng Ninh/UBND TP Uông Bí, Vietnam                                                            35\n",
       "Nha Trang, Vietnam                                                                             35\n",
       "Cao Bằng/Trạm khí TTQT, Vietnam                                                                35\n",
       "Name: Station name, dtype: int64"
      ]
     },
     "execution_count": 14,
     "metadata": {},
     "output_type": "execute_result"
    }
   ],
   "source": [
    "data['Station name'].value_counts()"
   ]
  },
  {
   "cell_type": "markdown",
   "metadata": {},
   "source": [
    "- Đây là dữ liệu thời tiết đo tại các trạm quan trắc thời tiết ở Việt Nam trải dài từ Bắc vào Nam. Với mỗi trạm sẽ có 35 số liệu thời tiết rải rác từ ngày 21/1/2021 đến ngày 5/4/2021."
   ]
  },
  {
   "cell_type": "markdown",
   "metadata": {},
   "source": [
    "Để tiện phân tích theo từng tỉnh ta sẽ thêm cột city"
   ]
  },
  {
   "cell_type": "code",
   "execution_count": 73,
   "metadata": {},
   "outputs": [],
   "source": [
    "def get_city(x):\n",
    "    lst_city = [\"Bắc Ninh\", \"Hà Nội\", \"Lào Cai\", \"Hồ Chí Minh\", \"Gia Lai\", \"Hạ Long\", \n",
    "                \"Đà Nẵng\", \"Thừa Thiên Huế\", \"Quảng Ninh\", \"Cao Bằng\", \"Nha Trang\"]\n",
    "    for city in lst_city:\n",
    "        if city in x:\n",
    "            return city\n",
    "        \n",
    "data['City'] = data['Station name'].apply(get_city)"
   ]
  },
  {
   "cell_type": "markdown",
   "metadata": {
    "id": "WS5waYv1uyvV"
   },
   "source": [
    "- Ta sẽ lần lượt đặt ra các câu hỏi, giả thuyết và trả lời, kiểm định chúng? Đầu tiên ta thấy ở với cột `Station Name`, các trạm ở Hà Nội xuất hiện nhiều nhất. Ta sẽ có giả thuyết kiểm định sau:\n",
    "\n",
    "**insight 1**: Sử dụng các số liệu của các trạm đo ở Hà Nội để Kiểm định giả thuyết thống kê sau: Theo nguồn tin từ [wikipedia](https://vi.wikipedia.org/wiki/B%E1%BA%A3n_m%E1%BA%ABu:Kh%C3%AD_h%E1%BA%ADu_H%C3%A0_N%E1%BB%99i) thì: Kiểm định được đặt ra là nhiệt độ trung bình của Hà Nội trong 4 tháng này tăng so với các năm trước hay không? Với nhiệt độ trung bình 4 tháng đầu năm là **19.4** được tính trung bình từ nguồn [wikipedia](https://vi.wikipedia.org/wiki/B%E1%BA%A3n_m%E1%BA%ABu:Kh%C3%AD_h%E1%BA%ADu_H%C3%A0_N%E1%BB%99i) ở trên. Ta có giả thuyết sau: $H_0: \\mu = 19.4 $ và $ H_1 : \\mu > 19.4 $"
   ]
  },
  {
   "cell_type": "markdown",
   "metadata": {
    "id": "cZGFbCFPuyvW"
   },
   "source": [
    "Về mặt dữ liệu dùng để kiểm định: Sẽ lấy thông tin từ các trạm quan trắc ở Hà Nội."
   ]
  },
  {
   "cell_type": "code",
   "execution_count": 78,
   "metadata": {
    "id": "8MEK6aUFuyvX",
    "outputId": "ad04bffe-4893-49fe-83f8-239711322b25",
    "scrolled": true
   },
   "outputs": [
    {
     "data": {
      "text/plain": [
       "array([18. , 18. , 18. , 18. , 18. , 18. , 18. , 18. , 18. , 18. , 18. ,\n",
       "       22. , 22.5, 22. , 22. , 22. , 22. , 22. , 22. , 22. , 22. , 22. ,\n",
       "       23. , 23. , 23. , 23. , 23. , 23. , 23. , 23. , 23. , 23. , 23. ,\n",
       "       21. , 21. , 21. , 21. , 21. , 21. , 21. , 21. , 21. , 21. , 21. ,\n",
       "       25. , 25. , 24.5, 24.5, 24.5, 24.5, 24.5, 24.5, 24.5, 24.5, 24.5,\n",
       "       23. , 23. , 23. , 23. , 23. , 23. , 23. , 23. , 23. , 23. , 23. ,\n",
       "       22. , 22. , 22. , 22. , 22. , 22. , 22. , 22. , 22. , 22. , 22. ,\n",
       "       18. , 18. , 18. , 18. , 18. , 18. , 18. , 18. , 18. , 18. , 18. ,\n",
       "       19. , 19. , 19. , 19. , 19. , 19. , 19. , 19. , 19. , 19. , 19. ,\n",
       "       20. , 20. , 20.5, 20. , 20.5, 20.5, 20.5, 20. , 20. , 20.5, 20.5,\n",
       "       20. , 20. , 21. , 21. , 21. , 21. , 21. , 21. , 21. , 21. , 21. ,\n",
       "       25. , 25. , 24.5, 24.5, 24.5, 24.5, 24.5, 24.5, 24.5, 24.5, 24.5,\n",
       "       22. , 22. , 23.5, 23.5, 23.5, 23.5, 23.5, 22. , 23.5, 23.5, 22. ,\n",
       "       16. , 16. , 17. , 17. , 17. , 17. , 17. , 17. , 16. , 16. , 17. ,\n",
       "       22. , 21.5, 23. , 23. , 23. , 23. , 23. , 23. , 23. , 23. , 23. ,\n",
       "       22. , 22. , 21. , 21. , 22. , 21. , 21. , 21. , 21. , 21. , 21. ,\n",
       "       20. , 20. , 21. , 20. , 20. , 20. , 21. , 21. , 20. , 20. , 21. ,\n",
       "       21. , 21. , 20. , 20. , 20. , 20. , 20. , 20. , 20. , 20. , 20. ,\n",
       "       22. , 22. , 21. , 21. , 22. , 22. , 22. , 21. , 22. , 22. , 22. ,\n",
       "       23. , 23. , 23.5, 23. , 23.5, 23.5, 23.5, 23.5, 23.5, 23.5, 23.5,\n",
       "       24. , 24. , 25. , 24. , 24. , 24. , 25. , 24. , 24. , 24. , 24. ,\n",
       "       24. , 24. , 24. , 24. , 24. , 24. , 24. , 24. , 24. , 24. , 24. ,\n",
       "       24. , 24. , 24. , 24. , 24. , 24. , 24. , 24. , 24. , 24. , 24. ,\n",
       "       19. , 18. , 24. , 19. , 19. , 19. , 23. , 18. , 19. , 18. , 19. ,\n",
       "       21. , 21. , 24. , 20.5, 20.5, 20.5, 23. , 20.5, 20.5, 20.5, 20.5,\n",
       "       17. , 17. , 24. , 17. , 17. , 17. , 17. , 17. , 17. , 17. , 17. ,\n",
       "       20. , 20. , 24. , 20. , 20. , 20. , 20. , 20. , 20. , 20. , 20. ,\n",
       "       24. , 24. , 24. , 23. , 24. , 23. , 23. , 24. , 23. , 24. , 23. ,\n",
       "       25. , 25. , 24. , 26. , 26. , 26. , 26. , 26. , 26. , 26. , 26. ,\n",
       "       24. , 24. , 24. , 24.5, 24.5, 24. , 24.5, 24. , 24. , 24.5, 24. ,\n",
       "       21. , 21. , 24. , 21. , 21. , 21. , 21. , 21. , 21. , 21. , 21. ,\n",
       "       23.5, 25. , 24. , 23. , 24. , 23.5, 24. , 23. , 23. , 24. , 23. ,\n",
       "       29. , 28. , 24. , 24. , 25. , 25.5, 24. , 24. , 24. , 25. , 24. ,\n",
       "       26. , 26. , 24. , 27. , 27. , 27. , 27. , 26. , 26. , 27. , 27. ,\n",
       "       23. , 23. , 24. , 24. , 24. , 24. , 24. , 24. , 24. , 24. , 24. ])"
      ]
     },
     "execution_count": 78,
     "metadata": {},
     "output_type": "execute_result"
    }
   ],
   "source": [
    "HaNoi_Temperature = data[data.City == \"Hà Nội\"][\"Temperature\"]\n",
    "HaNoi_Temperature.values"
   ]
  },
  {
   "cell_type": "code",
   "execution_count": 79,
   "metadata": {
    "id": "bUIVJHgTuyvX",
    "outputId": "da1886b2-7d99-4d8b-bce9-fbcba1db50a6"
   },
   "outputs": [
    {
     "data": {
      "image/png": "[encoded data removed]",
      "text/plain": [
       "<Figure size 432x288 with 1 Axes>"
      ]
     },
     "metadata": {
      "needs_background": "light"
     },
     "output_type": "display_data"
    }
   ],
   "source": [
    "# Phân bố nhiệt độ ở Hà Nội:\n",
    "sns.histplot(HaNoi_Temperature, kde = True,stat ='density')\n",
    "plt.title('Biên độ nhiệt của Hà Nội')\n",
    "plt.xlabel('Temperature')\n",
    "plt.ylabel('Frequence')\n",
    "plt.show()"
   ]
  },
  {
   "cell_type": "code",
   "execution_count": 80,
   "metadata": {
    "id": "rraLAYUluyvY",
    "outputId": "4558d2b0-92ad-4eef-c509-e6df689d1f2d",
    "scrolled": true
   },
   "outputs": [
    {
     "data": {
      "text/plain": [
       "DescribeResult(nobs=385, minmax=(16.0, 29.0), mean=22.0012987012987, variance=6.181638933982684, skewness=-0.33747359453082015, kurtosis=-0.4096120904627236)"
      ]
     },
     "execution_count": 80,
     "metadata": {},
     "output_type": "execute_result"
    }
   ],
   "source": [
    "from scipy import stats\n",
    "stats.describe(HaNoi_Temperature)"
   ]
  },
  {
   "cell_type": "markdown",
   "metadata": {
    "id": "yZjhCCoBuyvY"
   },
   "source": [
    "Kiểm định giả thuyết với T-test, với độ tin cậy 5%. Phương sai variance = 6.18 đã tính ở trên."
   ]
  },
  {
   "cell_type": "code",
   "execution_count": 81,
   "metadata": {
    "id": "aOlzjpp5uyvY",
    "outputId": "b9a0f97d-b116-400f-f340-07a4961b5467"
   },
   "outputs": [
    {
     "data": {
      "text/plain": [
       "Ttest_1sampResult(statistic=124.85923721495537, pvalue=5.6468772701e-313)"
      ]
     },
     "execution_count": 81,
     "metadata": {},
     "output_type": "execute_result"
    }
   ],
   "source": [
    "stats.ttest_1samp(HaNoi_Temperature, 6.18)"
   ]
  },
  {
   "cell_type": "markdown",
   "metadata": {
    "id": "_NF2UB8LuyvZ"
   },
   "source": [
    "Có thể thấy p_value rất nhỏ( gần như bằng 0), nhỏ hơn rất nhiều so với độ tin cậy 5% nên ta chấp nhận ( không thể bác bỏ) giả thuyết: $ H_1$ : Nhiệt độ trung bình của 4 tháng đầu năm ở Hà Nội tăng. Ta sẽ thử kiểm chừng bằng Visuallize"
   ]
  },
  {
   "cell_type": "code",
   "execution_count": 82,
   "metadata": {},
   "outputs": [],
   "source": [
    "# Chuyển về dạng date time\n",
    "data['Data Time S'] = data['Data Time S'].apply(pd.to_datetime)"
   ]
  },
  {
   "cell_type": "code",
   "execution_count": 86,
   "metadata": {},
   "outputs": [
    {
     "data": {
      "image/png": "[encoded data removed]",
      "text/plain": [
       "<Figure size 432x288 with 1 Axes>"
      ]
     },
     "metadata": {
      "needs_background": "light"
     },
     "output_type": "display_data"
    }
   ],
   "source": [
    "data_temperature_sort = data.sort_values(by='Data Time S')[['City', 'Temperature', 'Month']]\n",
    "data_use = data_temperature_sort[data_temperature_sort.City == \"Hà Nội\"]\n",
    "data_use = data_use.groupby('Month')['Temperature'].mean()\n",
    "plt.plot(data_use.index, data_use.values, '-o')\n",
    "plt.xticks(data_use.index)\n",
    "plt.ylabel(\"Nhiệt độ\")\n",
    "plt.xlabel(\"Tháng\")\n",
    "plt.title(\"Nhiệt độ trung bình của Hà Nội từ tháng 1 đến tháng 4\")\n",
    "plt.show()"
   ]
  },
  {
   "cell_type": "markdown",
   "metadata": {},
   "source": [
    "Rõ ràng thì nhiệt độ trung bình ở Hà Nội tằng từ thangs 1 đến tháng 4. Ta thử Visualize các tỉnh/thành phố khác có trong dữ liệu xem thế nào"
   ]
  },
  {
   "cell_type": "code",
   "execution_count": 101,
   "metadata": {},
   "outputs": [
    {
     "data": {
      "image/png": "[encoded data removed]",
      "text/plain": [
       "<Figure size 1296x864 with 1 Axes>"
      ]
     },
     "metadata": {
      "needs_background": "light"
     },
     "output_type": "display_data"
    }
   ],
   "source": [
    "lst_city = data[\"City\"].unique()\n",
    "plt.figure(figsize=(18, 12))\n",
    "for city in lst_city:\n",
    "    data_use = data_temperature_sort[data_temperature_sort.City == city]\n",
    "    data_use = data_use.groupby('Month')['Temperature'].mean()\n",
    "    plt.plot(data_use.index, data_use.values, '-o', label=city)\n",
    "plt.legend()\n",
    "plt.xticks([1, 2, 3, 4])\n",
    "plt.ylabel(\"Nhiệt độ\")\n",
    "plt.xlabel(\"Tháng\")\n",
    "plt.title(\"Nhiệt độ trung bình từ tháng 1 đến tháng 4\")\n",
    "plt.show()\n",
    "    "
   ]
  },
  {
   "cell_type": "markdown",
   "metadata": {},
   "source": [
    "- Nhận xét: Nhiệt độ trung bình hầu như tăng từ tháng 1 đến tháng 4 ở các tỉnh, đối với một số tỉnh như Nha Trang, Cao Bằng, Đà Nẵng, Hồ Chí Minh thì nhiệt độ giảm từ tháng 3 đến tháng 4. Lấy ví dụ như ở Sài Gòn, tháng 4 là bắt đầu có mưa, có lẽ vì vậy mà nhiệt độ giảm. Theo như các biểu đồ ở trên ta còn thấy được rằng Hồ Chí Minh có nhiệt độ trung bình cao nhất(29-33 độ C), ở Quảng Ninh thì nhiệt độ thấp nhất(15-19 độ C) vào các tháng này.\n",
    "\n",
    "Tiếp theo ta sẽ tìm hiểu về chỉ số AQI, chỉ số này là chỉ số về chất lượng không khí, và đối chiếu với cột `Alert level` để xem sự ảnh hưởng của chỉ số này đến mức độ cảnh báo \n",
    "\n",
    "**insight 2**: So sánh AQI giữa các tỉnh/thành phố. Sự thay đổi AQI của các tỉnh thành phố qua từng tháng"
   ]
  },
  {
   "cell_type": "code",
   "execution_count": 110,
   "metadata": {},
   "outputs": [
    {
     "data": {
      "text/plain": [
       "City\n",
       "Cao Bằng          136.911765\n",
       "Hà Nội            108.578082\n",
       "Lào Cai           105.285714\n",
       "Bắc Ninh           99.774648\n",
       "Hồ Chí Minh        88.514286\n",
       "Đà Nẵng            64.000000\n",
       "Thừa Thiên Huế     44.538462\n",
       "Gia Lai            41.454545\n",
       "Hạ Long            33.275862\n",
       "Quảng Ninh         17.800000\n",
       "Name: AQI index, dtype: float64"
      ]
     },
     "execution_count": 110,
     "metadata": {},
     "output_type": "execute_result"
    }
   ],
   "source": [
    "aqi_by_city = data.groupby(\"City\")[\"AQI index\"].mean().sort_values(ascending=False).dropna()\n",
    "aqi_by_city"
   ]
  },
  {
   "cell_type": "code",
   "execution_count": 117,
   "metadata": {},
   "outputs": [
    {
     "data": {
      "image/png": "[encoded data removed]",
      "text/plain": [
       "<Figure size 864x576 with 1 Axes>"
      ]
     },
     "metadata": {
      "needs_background": "light"
     },
     "output_type": "display_data"
    }
   ],
   "source": [
    "plt.figure(figsize=(12, 8))\n",
    "plt.barh(y=aqi_by_city.index, width=aqi_by_city.values)\n",
    "plt.xlabel(\"Chỉ số AQI\")\n",
    "plt.title(\"Chỉ số AQI trung bình của các tỉnh/thành phố\")\n",
    "plt.show()"
   ]
  },
  {
   "cell_type": "markdown",
   "metadata": {},
   "source": [
    "Cao bằng là tỉnh có chỉ số AQI cao nhất, theo thống kê của nguồn này cũng chỉ ra rằng Cao Bằng cao nhất <a href = \"https://www.iqair.com/vi/vietnam\">nguồn </a>"
   ]
  },
  {
   "cell_type": "code",
   "execution_count": null,
   "metadata": {},
   "outputs": [],
   "source": []
  }
 ],
 "metadata": {
  "colab": {
   "name": "notebook.ipynb",
   "provenance": []
  },
  "kernelspec": {
   "display_name": "Python 3",
   "language": "python",
   "name": "python3"
  },
  "language_info": {
   "codemirror_mode": {
    "name": "ipython",
    "version": 3
   },
   "file_extension": ".py",
   "mimetype": "text/x-python",
   "name": "python",
   "nbconvert_exporter": "python",
   "pygments_lexer": "ipython3",
   "version": "3.8.5"
  }
 },
 "nbformat": 4,
 "nbformat_minor": 4
}
